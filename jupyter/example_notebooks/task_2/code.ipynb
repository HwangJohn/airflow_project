{
 "cells": [
  {
   "cell_type": "markdown",
   "metadata": {},
   "source": [
    "# this should be transformed to little library later on\n",
    "to ensure every task saves to thed same directory"
   ]
  },
  {
   "cell_type": "code",
   "execution_count": 1,
   "metadata": {},
   "outputs": [
    {
     "name": "stdout",
     "output_type": "stream",
     "text": [
      "I have drawn 20 seconds for the next task!\n",
      "Saving result to /tmp/result.json\n",
      "Successfully saved.\n"
     ]
    }
   ],
   "source": [
    "import random\n",
    "import json\n",
    "import tarfile\n",
    "import os \n",
    "\n",
    "value = random.randint(10,20)\n",
    "print(f'I have drawn {value} seconds for the next task!')\n",
    "\n",
    "def save_result(result_dictionary):\n",
    "    print('Saving result to /tmp/result.json')\n",
    "    result_json = json.dumps(result)\n",
    "    with open('/tmp/result.json', 'w') as file:\n",
    "        file.write(result_json)\n",
    "        \n",
    "    with tarfile.open('/tmp/result.tgz', \"w:gz\") as tar:\n",
    "        abs_path = os.path.abspath('/tmp/result.json')\n",
    "        tar.add(abs_path, arcname=os.path.basename('/tmp/result.json'), recursive=False)\n",
    "        \n",
    "    print('Successfully saved.')\n",
    "    \n",
    "result = {\n",
    "    'sleeping_time': value\n",
    "}\n",
    "\n",
    "save_result(result)"
   ]
  },
  {
   "cell_type": "code",
   "execution_count": 52,
   "metadata": {},
   "outputs": [],
   "source": [
    "import docker\n",
    "import io \n",
    "client = docker.from_env()\n",
    "container = client.create_container(image='task2')\n",
    "container_id = container.get('Id')\n",
    "client.start(container=container_id)"
   ]
  },
  {
   "cell_type": "code",
   "execution_count": 79,
   "metadata": {},
   "outputs": [],
   "source": [
    "tar_data_stream, stat = client.get_archive(container=container, path='/tmp/result.tgz')"
   ]
  },
  {
   "cell_type": "code",
   "execution_count": null,
   "metadata": {},
   "outputs": [],
   "source": [
    "archive = io.BytesIO(b\"\".join(b for b in tar_data_stream))"
   ]
  },
  {
   "cell_type": "code",
   "execution_count": 80,
   "metadata": {},
   "outputs": [],
   "source": [
    "import tempfile\n",
    "\n",
    "with tempfile.NamedTemporaryFile() as tmp:\n",
    "    for chunk in tar_data_stream.stream():\n",
    "        tmp.write(chunk)\n",
    "    tmp.seek(0)\n",
    "    with tarfile.open(mode='r', fileobj=tmp) as tar:\n",
    "        tar.extractall()\n",
    "        tar.close()\n",
    "        \n"
   ]
  },
  {
   "cell_type": "code",
   "execution_count": 81,
   "metadata": {},
   "outputs": [
    {
     "name": "stdout",
     "output_type": "stream",
     "text": [
      "{'sleeping_time': 13}\n"
     ]
    }
   ],
   "source": [
    "import json \n",
    "import os\n",
    "\n",
    "with tarfile.open('result.tgz') as tf:\n",
    "    for member in tf.getmembers():\n",
    "        f = tf.extractfile(member)\n",
    "        result = json.loads(f.read())\n",
    "        os.remove('result.tgz')\n",
    "        print(result)\n",
    "        "
   ]
  },
  {
   "cell_type": "code",
   "execution_count": null,
   "metadata": {},
   "outputs": [],
   "source": []
  },
  {
   "cell_type": "code",
   "execution_count": null,
   "metadata": {},
   "outputs": [],
   "source": []
  }
 ],
 "metadata": {
  "celltoolbar": "Tags",
  "kernelspec": {
   "display_name": "airflow_jupyter",
   "language": "python",
   "name": "airflow_jupyter"
  },
  "language_info": {
   "codemirror_mode": {
    "name": "ipython",
    "version": 3
   },
   "file_extension": ".py",
   "mimetype": "text/x-python",
   "name": "python",
   "nbconvert_exporter": "python",
   "pygments_lexer": "ipython3",
   "version": "3.6.6"
  }
 },
 "nbformat": 4,
 "nbformat_minor": 2
}
