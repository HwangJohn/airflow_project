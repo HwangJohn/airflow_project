{
 "cells": [
  {
   "cell_type": "markdown",
   "metadata": {},
   "source": [
    "# this should be transformed to little library later on\n",
    "to ensure every task saves to thed same directory"
   ]
  },
  {
   "cell_type": "code",
   "execution_count": 27,
   "metadata": {},
   "outputs": [
    {
     "name": "stdout",
     "output_type": "stream",
     "text": [
      "I have drawn 11 seconds for the next task!\n",
      "Saving result to /tmp/result.\n",
      "Successfully saved.\n"
     ]
    }
   ],
   "source": [
    "import random\n",
    "import json\n",
    "\n",
    "value = random.randint(10,20)\n",
    "print(f'I have drawn {value} seconds for the next task!')\n",
    "\n",
    "def save_result(result_dictionary):\n",
    "    print('Saving result to /tmp/result.')\n",
    "    result_json = json.dumps(result)\n",
    "    with open('/tmp/result', 'w') as file:\n",
    "        file.write(result_json)\n",
    "    print('Successfully saved.')\n",
    "    \n",
    "result = {\n",
    "    'sleeping_time': value\n",
    "}\n",
    "\n",
    "save_result(result)"
   ]
  }
 ],
 "metadata": {
  "celltoolbar": "Tags",
  "kernelspec": {
   "display_name": "airflow_jupyter",
   "language": "python",
   "name": "airflow_jupyter"
  },
  "language_info": {
   "codemirror_mode": {
    "name": "ipython",
    "version": 3
   },
   "file_extension": ".py",
   "mimetype": "text/x-python",
   "name": "python",
   "nbconvert_exporter": "python",
   "pygments_lexer": "ipython3",
   "version": "3.6.8"
  }
 },
 "nbformat": 4,
 "nbformat_minor": 2
}
