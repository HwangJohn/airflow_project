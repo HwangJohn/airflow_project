{
 "cells": [
  {
   "cell_type": "code",
   "execution_count": 3,
   "metadata": {
    "tags": [
     "parameters"
    ]
   },
   "outputs": [],
   "source": [
    "sleeping_time = 0"
   ]
  },
  {
   "cell_type": "code",
   "execution_count": 4,
   "metadata": {},
   "outputs": [],
   "source": [
    "import time"
   ]
  },
  {
   "cell_type": "code",
   "execution_count": 4,
   "metadata": {},
   "outputs": [],
   "source": [
    "print(f'I have been instructed to sleep for {sleeping_time}')\n",
    "time.sleep(sleeping_time)"
   ]
  },
  {
   "cell_type": "code",
   "execution_count": 5,
   "metadata": {},
   "outputs": [
    {
     "name": "stdout",
     "output_type": "stream",
     "text": [
      "Good morning.\n"
     ]
    }
   ],
   "source": [
    "print('Good morning.')"
   ]
  },
  {
   "cell_type": "code",
   "execution_count": 7,
   "metadata": {},
   "outputs": [
    {
     "name": "stdout",
     "output_type": "stream",
     "text": [
      "Saving result to /tmp/result.json\n",
      "Successfully saved.\n"
     ]
    }
   ],
   "source": [
    "import random\n",
    "import json\n",
    "import tarfile\n",
    "import os \n",
    "\n",
    "def save_result(result_dictionary):\n",
    "    print('Saving result to /tmp/result.json')\n",
    "    result_json = json.dumps(result)\n",
    "    with open('/tmp/result.json', 'w') as file:\n",
    "        file.write(result_json)\n",
    "        \n",
    "    with tarfile.open('/tmp/result.tgz', \"w:gz\") as tar:\n",
    "        abs_path = os.path.abspath('/tmp/result.json')\n",
    "        tar.add(abs_path, arcname=os.path.basename('/tmp/result.json'), recursive=False)\n",
    "        \n",
    "    print('Successfully saved.')\n",
    "    \n",
    "result = {\n",
    "    'sleeping_time': sleeping_time\n",
    "}\n",
    "\n",
    "save_result(result)"
   ]
  }
 ],
 "metadata": {
  "celltoolbar": "Tags",
  "kernelspec": {
   "display_name": "airflow_jupyter",
   "language": "python",
   "name": "airflow_jupyter"
  },
  "language_info": {
   "codemirror_mode": {
    "name": "ipython",
    "version": 3
   },
   "file_extension": ".py",
   "mimetype": "text/x-python",
   "name": "python",
   "nbconvert_exporter": "python",
   "pygments_lexer": "ipython3",
   "version": "3.6.6"
  }
 },
 "nbformat": 4,
 "nbformat_minor": 2
}
